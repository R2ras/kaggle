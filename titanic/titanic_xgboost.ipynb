{
 "metadata": {
  "kernelspec": {
   "language": "python",
   "display_name": "Python 3",
   "name": "python3"
  },
  "language_info": {
   "pygments_lexer": "ipython3",
   "nbconvert_exporter": "python",
   "version": "3.6.4",
   "file_extension": ".py",
   "codemirror_mode": {
    "name": "ipython",
    "version": 3
   },
   "name": "python",
   "mimetype": "text/x-python"
  }
 },
 "nbformat_minor": 4,
 "nbformat": 4,
 "cells": [
  {
   "cell_type": "code",
   "execution_count": 1,
   "outputs": [],
   "source": [
    "import pandas as pd\n",
    "import logging\n",
    "logging.basicConfig(\n",
    "    level=logging.INFO\n",
    ")\n",
    "\n",
    "# loading data\n",
    "train_data = pd.read_csv('../input/titanic/train.csv', index_col='PassengerId')\n",
    "y = train_data['Survived']\n",
    "X = train_data.copy()\n",
    "X.drop('Survived', axis=1, inplace=True)\n",
    "X_predict = pd.read_csv('../input/titanic/test.csv', index_col='PassengerId')\n",
    "# X['Title'] = X['Name'].str.extract(r'(\\S+)\\.')\n",
    "\n"
   ],
   "metadata": {
    "collapsed": false,
    "pycharm": {
     "name": "#%%\n"
    }
   }
  },
  {
   "cell_type": "code",
   "source": [
    "X.head()"
   ],
   "metadata": {
    "collapsed": false,
    "pycharm": {
     "name": "#%%\n"
    }
   },
   "execution_count": 2,
   "outputs": [
    {
     "data": {
      "text/plain": "             Pclass                                               Name  \\\nPassengerId                                                              \n1                 3                            Braund, Mr. Owen Harris   \n2                 1  Cumings, Mrs. John Bradley (Florence Briggs Th...   \n3                 3                             Heikkinen, Miss. Laina   \n4                 1       Futrelle, Mrs. Jacques Heath (Lily May Peel)   \n5                 3                           Allen, Mr. William Henry   \n\n                Sex   Age  SibSp  Parch            Ticket     Fare Cabin  \\\nPassengerId                                                                \n1              male  22.0      1      0         A/5 21171   7.2500   NaN   \n2            female  38.0      1      0          PC 17599  71.2833   C85   \n3            female  26.0      0      0  STON/O2. 3101282   7.9250   NaN   \n4            female  35.0      1      0            113803  53.1000  C123   \n5              male  35.0      0      0            373450   8.0500   NaN   \n\n            Embarked  \nPassengerId           \n1                  S  \n2                  C  \n3                  S  \n4                  S  \n5                  S  ",
      "text/html": "<div>\n<style scoped>\n    .dataframe tbody tr th:only-of-type {\n        vertical-align: middle;\n    }\n\n    .dataframe tbody tr th {\n        vertical-align: top;\n    }\n\n    .dataframe thead th {\n        text-align: right;\n    }\n</style>\n<table border=\"1\" class=\"dataframe\">\n  <thead>\n    <tr style=\"text-align: right;\">\n      <th></th>\n      <th>Pclass</th>\n      <th>Name</th>\n      <th>Sex</th>\n      <th>Age</th>\n      <th>SibSp</th>\n      <th>Parch</th>\n      <th>Ticket</th>\n      <th>Fare</th>\n      <th>Cabin</th>\n      <th>Embarked</th>\n    </tr>\n    <tr>\n      <th>PassengerId</th>\n      <th></th>\n      <th></th>\n      <th></th>\n      <th></th>\n      <th></th>\n      <th></th>\n      <th></th>\n      <th></th>\n      <th></th>\n      <th></th>\n    </tr>\n  </thead>\n  <tbody>\n    <tr>\n      <th>1</th>\n      <td>3</td>\n      <td>Braund, Mr. Owen Harris</td>\n      <td>male</td>\n      <td>22.0</td>\n      <td>1</td>\n      <td>0</td>\n      <td>A/5 21171</td>\n      <td>7.2500</td>\n      <td>NaN</td>\n      <td>S</td>\n    </tr>\n    <tr>\n      <th>2</th>\n      <td>1</td>\n      <td>Cumings, Mrs. John Bradley (Florence Briggs Th...</td>\n      <td>female</td>\n      <td>38.0</td>\n      <td>1</td>\n      <td>0</td>\n      <td>PC 17599</td>\n      <td>71.2833</td>\n      <td>C85</td>\n      <td>C</td>\n    </tr>\n    <tr>\n      <th>3</th>\n      <td>3</td>\n      <td>Heikkinen, Miss. Laina</td>\n      <td>female</td>\n      <td>26.0</td>\n      <td>0</td>\n      <td>0</td>\n      <td>STON/O2. 3101282</td>\n      <td>7.9250</td>\n      <td>NaN</td>\n      <td>S</td>\n    </tr>\n    <tr>\n      <th>4</th>\n      <td>1</td>\n      <td>Futrelle, Mrs. Jacques Heath (Lily May Peel)</td>\n      <td>female</td>\n      <td>35.0</td>\n      <td>1</td>\n      <td>0</td>\n      <td>113803</td>\n      <td>53.1000</td>\n      <td>C123</td>\n      <td>S</td>\n    </tr>\n    <tr>\n      <th>5</th>\n      <td>3</td>\n      <td>Allen, Mr. William Henry</td>\n      <td>male</td>\n      <td>35.0</td>\n      <td>0</td>\n      <td>0</td>\n      <td>373450</td>\n      <td>8.0500</td>\n      <td>NaN</td>\n      <td>S</td>\n    </tr>\n  </tbody>\n</table>\n</div>"
     },
     "execution_count": 2,
     "metadata": {},
     "output_type": "execute_result"
    }
   ]
  },
  {
   "cell_type": "code",
   "execution_count": 3,
   "outputs": [
    {
     "data": {
      "text/plain": "          Unique  NaN   Dtypes\nSurvived       2    0    int64\nPclass         3    0    int64\nName         891    0   object\nSex            2    0   object\nAge           88  177  float64\nSibSp          7    0    int64\nParch          7    0    int64\nTicket       681    0   object\nFare         248    0  float64\nCabin        147  687   object\nEmbarked       3    2   object",
      "text/html": "<div>\n<style scoped>\n    .dataframe tbody tr th:only-of-type {\n        vertical-align: middle;\n    }\n\n    .dataframe tbody tr th {\n        vertical-align: top;\n    }\n\n    .dataframe thead th {\n        text-align: right;\n    }\n</style>\n<table border=\"1\" class=\"dataframe\">\n  <thead>\n    <tr style=\"text-align: right;\">\n      <th></th>\n      <th>Unique</th>\n      <th>NaN</th>\n      <th>Dtypes</th>\n    </tr>\n  </thead>\n  <tbody>\n    <tr>\n      <th>Survived</th>\n      <td>2</td>\n      <td>0</td>\n      <td>int64</td>\n    </tr>\n    <tr>\n      <th>Pclass</th>\n      <td>3</td>\n      <td>0</td>\n      <td>int64</td>\n    </tr>\n    <tr>\n      <th>Name</th>\n      <td>891</td>\n      <td>0</td>\n      <td>object</td>\n    </tr>\n    <tr>\n      <th>Sex</th>\n      <td>2</td>\n      <td>0</td>\n      <td>object</td>\n    </tr>\n    <tr>\n      <th>Age</th>\n      <td>88</td>\n      <td>177</td>\n      <td>float64</td>\n    </tr>\n    <tr>\n      <th>SibSp</th>\n      <td>7</td>\n      <td>0</td>\n      <td>int64</td>\n    </tr>\n    <tr>\n      <th>Parch</th>\n      <td>7</td>\n      <td>0</td>\n      <td>int64</td>\n    </tr>\n    <tr>\n      <th>Ticket</th>\n      <td>681</td>\n      <td>0</td>\n      <td>object</td>\n    </tr>\n    <tr>\n      <th>Fare</th>\n      <td>248</td>\n      <td>0</td>\n      <td>float64</td>\n    </tr>\n    <tr>\n      <th>Cabin</th>\n      <td>147</td>\n      <td>687</td>\n      <td>object</td>\n    </tr>\n    <tr>\n      <th>Embarked</th>\n      <td>3</td>\n      <td>2</td>\n      <td>object</td>\n    </tr>\n  </tbody>\n</table>\n</div>"
     },
     "execution_count": 3,
     "metadata": {},
     "output_type": "execute_result"
    }
   ],
   "source": [
    "pd.DataFrame({\n",
    "    'Unique': train_data.nunique(),\n",
    "    'NaN': train_data.isnull().sum(),\n",
    "    'Dtypes': train_data.dtypes\n",
    "})"
   ],
   "metadata": {
    "collapsed": false,
    "pycharm": {
     "name": "#%%\n"
    }
   }
  },
  {
   "cell_type": "markdown",
   "source": [
    "# Plan for handling NaN and Categorical data.\n",
    "### Numerical features (NaN replace with median):\n",
    "- Age\n",
    "- Fare\n",
    "### Categorical features (OneHot):\n",
    "- Name extract only Title and apply OneHot\n",
    "- Pclass\n",
    "- Sex\n",
    "- Embarked"
   ],
   "metadata": {
    "collapsed": false
   }
  },
  {
   "cell_type": "code",
   "source": [
    "from sklearn.pipeline import Pipeline\n",
    "from sklearn.base import BaseEstimator\n",
    "from sklearn.impute import SimpleImputer\n",
    "from sklearn.preprocessing import OneHotEncoder\n",
    "from sklearn.compose import ColumnTransformer\n",
    "from xgboost import XGBClassifier\n",
    "from sklearn.model_selection import train_test_split\n",
    "\n",
    "# split X y to train, test\n",
    "X_train, X_test, y_train, y_test = train_test_split(X, y, test_size=0.2, random_state=0)\n",
    "\n",
    "# creating custom Class to handle Name column\n",
    "class NameTitleEncoder(BaseEstimator):\n",
    "    \"\"\"Class to extract title from name column.\"\"\"\n",
    "    def __init__(self):\n",
    "        pass\n",
    "\n",
    "    def fit(self, X, y=None):\n",
    "        return self\n",
    "\n",
    "    @staticmethod\n",
    "    def transform(x_dataset: pd.DataFrame):\n",
    "        x_dataset['Title'] = x_dataset['Name'].str.extract(r'(\\S+)\\.')\n",
    "        return x_dataset\n",
    "\n",
    "\n",
    "# handling numerical features\n",
    "numerical_features = [\n",
    "    'Age',\n",
    "    'Fare',\n",
    "]\n",
    "numerical_transformer = SimpleImputer(strategy='median')\n",
    "\n",
    "categorical_features = [\n",
    "    'Title',\n",
    "    'Pclass',\n",
    "    'Sex',\n",
    "    'Embarked',\n",
    "]\n",
    "\n",
    "categorical_transformer = Pipeline(steps=[\n",
    "    ('simpleimputer', SimpleImputer(strategy='most_frequent')),\n",
    "    ('onehot', OneHotEncoder(handle_unknown='ignore')),\n",
    "])\n",
    "\n",
    "# creating preprocessor\n",
    "preprocessor = ColumnTransformer(\n",
    "    transformers=[\n",
    "        ('numeric', numerical_transformer, numerical_features),\n",
    "        ('categorical', categorical_transformer, categorical_features)\n",
    "    ]\n",
    ")\n",
    "\n",
    "# Define the model\n",
    "model = XGBClassifier(n_estimators=1000, learning_rate=0.1, use_label_encoder=False)\n",
    "\n",
    "# Bundle preprocessing and modeling code in a pipeline\n",
    "\n",
    "clf = Pipeline(steps=[\n",
    "    ('name_title_encoder', NameTitleEncoder()),\n",
    "    ('preprocessor', preprocessor),\n",
    "    ('model', model)\n",
    "])\n",
    "\n",
    "# Fit the model\n",
    "clf.fit(X, y)"
   ],
   "metadata": {
    "collapsed": false,
    "pycharm": {
     "name": "#%%\n"
    }
   },
   "execution_count": 4,
   "outputs": [
    {
     "name": "stdout",
     "output_type": "stream",
     "text": [
      "[09:19:30] WARNING: C:/Users/Administrator/workspace/xgboost-win64_release_1.4.0/src/learner.cc:1095: Starting in XGBoost 1.3.0, the default evaluation metric used with the objective 'binary:logistic' was changed from 'error' to 'logloss'. Explicitly set eval_metric if you'd like to restore the old behavior.\n"
     ]
    },
    {
     "data": {
      "text/plain": "Pipeline(steps=[('name_title_encoder', NameTitleEncoder()),\n                ('preprocessor',\n                 ColumnTransformer(transformers=[('numeric',\n                                                  SimpleImputer(strategy='median'),\n                                                  ['Age', 'Fare']),\n                                                 ('categorical',\n                                                  Pipeline(steps=[('simpleimputer',\n                                                                   SimpleImputer(strategy='most_frequent')),\n                                                                  ('onehot',\n                                                                   OneHotEncoder(handle_unknown='ignore'))]),\n                                                  ['Title', 'Pclass', 'Sex',\n                                                   'Embarked'])])),\n                ('m...\n                               importance_type='gain',\n                               interaction_constraints='', learning_rate=0.1,\n                               max_delta_step=0, max_depth=6,\n                               min_child_weight=1, missing=nan,\n                               monotone_constraints='()', n_estimators=1000,\n                               n_jobs=16, num_parallel_tree=1, random_state=0,\n                               reg_alpha=0, reg_lambda=1, scale_pos_weight=1,\n                               subsample=1, tree_method='exact',\n                               use_label_encoder=False, validate_parameters=1,\n                               verbosity=None))])"
     },
     "execution_count": 4,
     "metadata": {},
     "output_type": "execute_result"
    }
   ]
  },
  {
   "cell_type": "markdown",
   "source": [
    "Predicting y_values for X_predict, saving as csv for submitting."
   ],
   "metadata": {
    "collapsed": false,
    "pycharm": {
     "name": "#%% md\n"
    }
   }
  },
  {
   "cell_type": "code",
   "source": [
    "from pathlib import Path\n",
    "\n",
    "#check dir\n",
    "path = '../output/titanic/'\n",
    "Path(path).mkdir(parents=True, exist_ok=True)\n",
    "\n",
    "survived = clf.predict(X_predict)\n",
    "\n",
    "output = pd.DataFrame(\n",
    "    {\n",
    "    'PassengerId': X_predict.index,\n",
    "    'Survived': survived})\n",
    "\n",
    "output.to_csv(f'{path}titanic_xgboost.csv', index=False)\n",
    "logging.info(f'Submission saved to {path}titanic_xgboost.csv')"
   ],
   "metadata": {
    "collapsed": false,
    "pycharm": {
     "name": "#%%\n"
    }
   },
   "execution_count": 5,
   "outputs": [
    {
     "name": "stderr",
     "output_type": "stream",
     "text": [
      "INFO:root:Submission saved to ../output/titanic/titanic_xgboost.csv\n"
     ]
    }
   ]
  },
  {
   "cell_type": "markdown",
   "source": [
    "Submission score only 0.73205. In tutorial with random RandomForestClassifier it was 0.77511 (bigger is better)\n",
    "I see where I could improve, but for now my point was just to see what I remember from tutorial with XGBoost."
   ],
   "metadata": {
    "collapsed": false,
    "pycharm": {
     "name": "#%% md\n"
    }
   }
  }
 ]
}